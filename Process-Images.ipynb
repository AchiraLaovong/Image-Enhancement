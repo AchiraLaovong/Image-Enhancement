{
 "cells": [
  {
   "cell_type": "code",
   "id": "initial_id",
   "metadata": {
    "collapsed": true,
    "ExecuteTime": {
     "end_time": "2024-07-28T17:43:15.665445Z",
     "start_time": "2024-07-28T17:42:56.465260Z"
    }
   },
   "source": [
    "import os\n",
    "from PIL import Image\n",
    "import numpy as np\n",
    "from skimage.metrics import structural_similarity as ssim\n",
    "from skimage.metrics import peak_signal_noise_ratio as psnr\n",
    "from skimage.metrics import mean_squared_error as mse"
   ],
   "outputs": [],
   "execution_count": 5
  },
  {
   "metadata": {},
   "cell_type": "markdown",
   "source": [
    "# Process Images\n",
    "\n",
    "In this notebook, we will be creating two sets of images: Low-Resolution (LR) and High-Resolution (HR) images. The LR images will be created by downscaling the HR images.\n",
    "\n",
    "The workflow of creating training and testing data is as follows:\n",
    "1. Load the HR images.\n",
    "2. Resize every image to make all the images of the same size.\n",
    "3. Downscale the images to create LR images.\n",
    "4. Upscale the LR images to create LR images of the same size as HR images.\n",
    "5. Save the HR and LR images in separate directories."
   ],
   "id": "b3e1117693e9fc0f"
  },
  {
   "metadata": {
    "ExecuteTime": {
     "end_time": "2024-07-28T14:50:30.208943Z",
     "start_time": "2024-07-28T14:50:30.200422Z"
    }
   },
   "cell_type": "code",
   "source": [
    "# File Paths\n",
    "input_dir = 'Dataset/DIV2K_train_HR/'\n",
    "resize_dir = 'Dataset/Resized/'\n",
    "output_dir = 'Dataset/Processed/'\n",
    "crop_dir = 'Dataset/Cropped/'\n",
    "\n",
    "# Create output directories\n",
    "if not os.path.exists(output_dir):\n",
    "    os.makedirs(output_dir)\n",
    "if not os.path.exists(resize_dir):\n",
    "    os.makedirs(resize_dir)\n",
    "if not os.path.exists(crop_dir):\n",
    "    os.makedirs(crop_dir)\n",
    "    \n",
    "# # Resize Size\n",
    "# resize_size = (256, 256)\n",
    "# \n",
    "# # Resize Images\n",
    "# for filename in os.listdir(input_dir):\n",
    "#     if filename.endswith(('.png', '.jpg', '.jpeg', '.bmp', '.tiff')):\n",
    "#         # Open the image\n",
    "#         img_path = os.path.join(input_dir, filename)\n",
    "#         img = Image.open(img_path)\n",
    "# \n",
    "#         # Resize the image\n",
    "#         img = img.resize(resize_size, Image.BICUBIC)\n",
    "# \n",
    "#         # Save the image\n",
    "#         output_path = os.path.join(resize_dir, filename)\n",
    "#         img.save(output_path)"
   ],
   "id": "bc5c9ac95178bc95",
   "outputs": [],
   "execution_count": 2
  },
  {
   "metadata": {
    "ExecuteTime": {
     "end_time": "2024-07-28T14:52:47.947346Z",
     "start_time": "2024-07-28T14:50:32.710721Z"
    }
   },
   "cell_type": "code",
   "source": [
    "x1, y1 = 0, 0  # Top left corner of the crop box\n",
    "crop_box = (x1, y1, x1 + 512, y1 + 512)  # Adjust these coordinates\n",
    "\n",
    "# Crop Images\n",
    "for filename in os.listdir(input_dir):\n",
    "    if filename.endswith(('.png', '.jpg', '.jpeg', '.bmp', '.tiff')):\n",
    "        # Open the image\n",
    "        img_path = os.path.join(input_dir, filename)\n",
    "        img = Image.open(img_path)\n",
    "\n",
    "        # Crop the image\n",
    "        cropped_img = img.crop(crop_box)\n",
    "\n",
    "        # Save the cropped image\n",
    "        output_path = os.path.join(crop_dir, filename)\n",
    "        cropped_img.save(output_path)"
   ],
   "id": "35b5ef3f88bed3d0",
   "outputs": [],
   "execution_count": 3
  },
  {
   "metadata": {
    "ExecuteTime": {
     "end_time": "2024-07-28T14:57:38.259823Z",
     "start_time": "2024-07-28T14:56:17.992943Z"
    }
   },
   "cell_type": "code",
   "source": [
    "# Scale Factor    \n",
    "def downscale_images(images, scaling_factor):\n",
    "    # Upscale Images\n",
    "    for filename in os.listdir(images):\n",
    "        if filename.endswith(('.png', '.jpg', '.jpeg', '.bmp', '.tiff')):\n",
    "            # Open the image\n",
    "            img_path = os.path.join(images, filename)\n",
    "            img = Image.open(img_path)\n",
    "    \n",
    "            # Calculate the new dimensions\n",
    "            new_width = img.width // scaling_factor\n",
    "            new_height = img.height // scaling_factor\n",
    "    \n",
    "            # Downscale the image\n",
    "            img_downscaled = img.resize((new_width, new_height), Image.BICUBIC)\n",
    "    \n",
    "            # Upscale the image\n",
    "            img_upscaled = img_downscaled.resize((img.width, img.height), Image.BICUBIC)\n",
    "    \n",
    "            # Save the downscaled image\n",
    "            output_path = os.path.join(output_dir, filename)\n",
    "            img_upscaled.save(output_path)\n",
    "            \n",
    "# Downscale Images\n",
    "downscale_images(crop_dir, 3)"
   ],
   "id": "c945131debf48d09",
   "outputs": [],
   "execution_count": 11
  },
  {
   "metadata": {},
   "cell_type": "markdown",
   "source": [
    "# Creating Metrics\n",
    "\n",
    "In order to tell the difference between the HR and LR images, we will be using the following metrics:\n",
    "1. Peak Signal-to-Noise Ratio (PSNR)\n",
    "2. Structural Similarity Index (SSIM)\n",
    "3. Mean Squared Error (MSE)\n",
    "\n",
    "These metrics will help us evaluate the performance of the model."
   ],
   "id": "e187c7b63b980d9a"
  },
  {
   "metadata": {
    "ExecuteTime": {
     "end_time": "2024-07-28T17:43:15.681451Z",
     "start_time": "2024-07-28T17:43:15.668447Z"
    }
   },
   "cell_type": "code",
   "source": [
    "# Calculate Metrics\n",
    "def calculate_metrics(hr_img, lr_img):\n",
    "    # Convert images to numpy arrays\n",
    "    hr_data = np.array(hr_img).astype(np.float32)\n",
    "    lr_data = np.array(lr_img).astype(np.float32)\n",
    "    # Calculate PSNR\n",
    "    psnr_val = psnr(hr_data, lr_data, data_range=255)\n",
    "    # Calculate SSIM\n",
    "    ssim_val = ssim(hr_data, lr_data, multichannel=True, channel_axis=2, data_range=255)\n",
    "    # Calculate MSE\n",
    "    mse_val = mse(hr_data, lr_data)\n",
    "    return psnr_val, ssim_val, mse_val"
   ],
   "id": "47fb9a68e5edd45b",
   "outputs": [],
   "execution_count": 6
  },
  {
   "metadata": {
    "ExecuteTime": {
     "end_time": "2024-07-28T17:43:15.712444Z",
     "start_time": "2024-07-28T17:43:15.682451Z"
    }
   },
   "cell_type": "code",
   "source": [
    "# Dimension of images\n",
    "hr_img = Image.open('Dataset/Cropped/0001.png')\n",
    "lr_img = Image.open('Dataset/Processed/0001.png')\n",
    "hr_img.size, lr_img.size"
   ],
   "id": "502c854ba80b4f1b",
   "outputs": [
    {
     "data": {
      "text/plain": [
       "((512, 512), (512, 512))"
      ]
     },
     "execution_count": 7,
     "metadata": {},
     "output_type": "execute_result"
    }
   ],
   "execution_count": 7
  },
  {
   "metadata": {
    "ExecuteTime": {
     "end_time": "2024-07-28T17:46:51.996517Z",
     "start_time": "2024-07-28T17:43:15.715448Z"
    }
   },
   "cell_type": "code",
   "source": [
    "psnr_results, ssim_results, mse_results = [], [], []\n",
    "test_dir = 'Dataset/Cropped/'\n",
    "output_dir = 'Dataset/Processed/'\n",
    "for hr, lr in zip(os.listdir(test_dir), os.listdir(output_dir)):\n",
    "    # Open the images\n",
    "    hr_img = Image.open(os.path.join(test_dir, hr))\n",
    "    lr_img = Image.open(os.path.join(output_dir, lr))\n",
    "\n",
    "    # Calculate the metrics\n",
    "    psnr_val, ssim_val, mse_val = calculate_metrics(hr_img, lr_img)\n",
    "\n",
    "    # Append the metrics to the new variables\n",
    "    psnr_results.append(psnr_val)\n",
    "    ssim_results.append(ssim_val)\n",
    "    mse_results.append(mse_val)\n",
    "\n",
    "# Calculate the average metrics\n",
    "psnr_avg = np.mean(psnr_results)\n",
    "ssim_avg = np.mean(ssim_results)\n",
    "mse_avg = np.mean(mse_results)\n",
    "\n",
    "# Print the results\n",
    "print(f'Average PSNR: {psnr_avg:.4f} dB')\n",
    "print(f'Average SSIM: {ssim_avg:.4f}')\n",
    "print(f'Average MSE: {mse_avg:.4f}')"
   ],
   "id": "4edaa58d3eba53c9",
   "outputs": [
    {
     "name": "stdout",
     "output_type": "stream",
     "text": [
      "Average PSNR: 33.8643 dB\n",
      "Average SSIM: 0.8837\n",
      "Average MSE: 98.2546\n"
     ]
    }
   ],
   "execution_count": 8
  }
 ],
 "metadata": {
  "kernelspec": {
   "display_name": "Python 3",
   "language": "python",
   "name": "python3"
  },
  "language_info": {
   "codemirror_mode": {
    "name": "ipython",
    "version": 2
   },
   "file_extension": ".py",
   "mimetype": "text/x-python",
   "name": "python",
   "nbconvert_exporter": "python",
   "pygments_lexer": "ipython2",
   "version": "2.7.6"
  }
 },
 "nbformat": 4,
 "nbformat_minor": 5
}
